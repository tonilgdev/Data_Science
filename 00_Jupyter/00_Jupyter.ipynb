{
 "cells": [
  {
   "cell_type": "code",
   "execution_count": 2,
   "id": "0b5b6f27-2306-4b91-8eb5-97bca9313d7e",
   "metadata": {},
   "outputs": [
    {
     "data": {
      "text/plain": [
       "36"
      ]
     },
     "execution_count": 2,
     "metadata": {},
     "output_type": "execute_result"
    }
   ],
   "source": [
    "x1 = 3\n",
    "x2 = 5\n",
    "\n",
    "x1 **2 + x2*4 +7"
   ]
  },
  {
   "cell_type": "markdown",
   "id": "49207579-edaa-4505-b9e1-6986f88d1127",
   "metadata": {},
   "source": [
    "**Exercise 0.**\n",
    "\n",
    "$ \\sum_{x=1}^n sin(x) + cos(x) $"
   ]
  },
  {
   "cell_type": "markdown",
   "id": "ed3edecc-bb7c-4ea4-844c-cf9d6f9ed4c5",
   "metadata": {},
   "source": [
    "$$ \\sum_{x=1}^n sin(x) + cos(x) $$"
   ]
  },
  {
   "cell_type": "markdown",
   "id": "74be5b44-f72c-4c92-b7cc-1857165a19d2",
   "metadata": {},
   "source": [
    "**Exercise 1. Equación 1**\n",
    "$$ \\int_a^b f'(x) dx = f(b)-f(a)$$"
   ]
  },
  {
   "cell_type": "markdown",
   "id": "1ee77db8-fdec-451e-b7a8-47795deb5802",
   "metadata": {},
   "source": [
    "**Exercise 1. Equación 2**\n",
    "$$ t' = t\\frac{1}{\\sqrt{1 - \\frac{v^2}{c^2}}} $$"
   ]
  },
  {
   "cell_type": "markdown",
   "id": "062c8b87-db28-44e3-81e4-e6f5d2bfb927",
   "metadata": {},
   "source": [
    "**Exercise 1. Equación 3**\n",
    "$$ \\Big[M\\frac{\\partial}{\\partial M}+\\beta(g)\\frac{\\partial}{\\partial g}+\\eta\\gamma \\Big]G^n(x_1,x_2,\\dots,x_n;M,g)=0$$\n"
   ]
  },
  {
   "cell_type": "markdown",
   "id": "de441c0e-ae96-40b0-9978-10584bba55fc",
   "metadata": {},
   "source": [
    "**Exercise 1. Equación 4**\n",
    "$$\r\n",
    "R_{00} \\approx\r\n",
    "    -\\frac{1}{2}\r\n",
    "    \\sum_i\r\n",
    "    \\frac{\\partial^2 h_{00}}{\\partial(x^i)^2}\r\n",
    "    =\r\n",
    "    \\frac{4\\pi G}{c^2}\r\n",
    "    (\\rho c^2)\r\n",
    "    \\Rightarrow\r\n",
    "    \\bigtriangledown^2 \\phi_g\r\n",
    "    =\r\n",
    "    4\\pi G \\rho\r\n",
    "$$\r\n"
   ]
  },
  {
   "cell_type": "markdown",
   "id": "0e4425ba-3a7b-4be7-93f1-486ac289288f",
   "metadata": {},
   "source": [
    "**Exercise 2.**"
   ]
  },
  {
   "cell_type": "code",
   "execution_count": 1,
   "id": "78db76ed-a820-4ffd-b39c-f867aec650fb",
   "metadata": {
    "scrolled": true
   },
   "outputs": [
    {
     "name": "stdout",
     "output_type": "stream",
     "text": [
      "^C\n",
      "La hora actual es: 18:40:34,41\n",
      "Escriba una nueva hora: \n"
     ]
    }
   ],
   "source": [
    "!time"
   ]
  },
  {
   "cell_type": "code",
   "execution_count": 3,
   "id": "b7d6e75a-67da-4c3c-883a-c8e95841ace9",
   "metadata": {},
   "outputs": [
    {
     "name": "stdout",
     "output_type": "stream",
     "text": [
      " El volumen de la unidad C es OS\n",
      " El n£mero de serie del volumen es: F8FD-D23D\n",
      "\n",
      " Directorio de C:\\Users\\Toni\\Desktop\\Programming\\Data_Science\\00_Jupyter\n",
      "\n",
      "26/01/2024  18:40    <DIR>          .\n",
      "26/01/2024  18:40    <DIR>          ..\n",
      "26/01/2024  17:49    <DIR>          .ipynb_checkpoints\n",
      "26/01/2024  17:49           269.230 00_Jupyter.html\n",
      "26/01/2024  18:40             4.106 00_Jupyter.ipynb\n",
      "26/01/2024  17:49                59 00_Jupyter.md\n",
      "26/01/2024  18:17               502 equations.tex\n",
      "               4 archivos        273.897 bytes\n",
      "               3 dirs  297.427.333.120 bytes libres\n"
     ]
    }
   ],
   "source": [
    "!dir"
   ]
  },
  {
   "cell_type": "code",
   "execution_count": 4,
   "id": "11b976a8-9fe2-40a3-8979-924079275f15",
   "metadata": {},
   "outputs": [
    {
     "name": "stderr",
     "output_type": "stream",
     "text": [
      "\"free\" no se reconoce como un comando interno o externo,\n",
      "programa o archivo por lotes ejecutable.\n"
     ]
    }
   ],
   "source": [
    "!free"
   ]
  },
  {
   "cell_type": "markdown",
   "id": "59c23cb4-695f-4eeb-9155-8a793f254733",
   "metadata": {},
   "source": [
    "**Exercise 3.**"
   ]
  },
  {
   "cell_type": "code",
   "execution_count": 5,
   "id": "3460fb01-6a01-457a-8b13-612e09410821",
   "metadata": {},
   "outputs": [
    {
     "data": {
      "text/plain": [
       "\u001b[1;31mSignature:\u001b[0m \u001b[0mos\u001b[0m\u001b[1;33m.\u001b[0m\u001b[0mpath\u001b[0m\u001b[1;33m.\u001b[0m\u001b[0mdirname\u001b[0m\u001b[1;33m(\u001b[0m\u001b[0mp\u001b[0m\u001b[1;33m)\u001b[0m\u001b[1;33m\u001b[0m\u001b[1;33m\u001b[0m\u001b[0m\n",
       "\u001b[1;31mDocstring:\u001b[0m Returns the directory component of a pathname\n",
       "\u001b[1;31mFile:\u001b[0m      c:\\users\\toni\\desktop\\programming\\data_science\\00_jupyter\\<frozen ntpath>\n",
       "\u001b[1;31mType:\u001b[0m      function"
      ]
     },
     "metadata": {},
     "output_type": "display_data"
    }
   ],
   "source": [
    "import os\n",
    "os.path.dirname?"
   ]
  },
  {
   "cell_type": "code",
   "execution_count": 6,
   "id": "ac921422-43f7-448c-92bf-95d01182a068",
   "metadata": {},
   "outputs": [
    {
     "data": {
      "text/plain": [
       "\u001b[1;31mSignature:\u001b[0m \u001b[0mre\u001b[0m\u001b[1;33m.\u001b[0m\u001b[0mmatch\u001b[0m\u001b[1;33m(\u001b[0m\u001b[0mpattern\u001b[0m\u001b[1;33m,\u001b[0m \u001b[0mstring\u001b[0m\u001b[1;33m,\u001b[0m \u001b[0mflags\u001b[0m\u001b[1;33m=\u001b[0m\u001b[1;36m0\u001b[0m\u001b[1;33m)\u001b[0m\u001b[1;33m\u001b[0m\u001b[1;33m\u001b[0m\u001b[0m\n",
       "\u001b[1;31mDocstring:\u001b[0m\n",
       "Try to apply the pattern at the start of the string, returning\n",
       "a Match object, or None if no match was found.\n",
       "\u001b[1;31mFile:\u001b[0m      c:\\users\\toni\\appdata\\local\\programs\\python\\python311\\lib\\re\\__init__.py\n",
       "\u001b[1;31mType:\u001b[0m      function"
      ]
     },
     "metadata": {},
     "output_type": "display_data"
    }
   ],
   "source": [
    "import re\n",
    "re.match?"
   ]
  },
  {
   "cell_type": "code",
   "execution_count": 7,
   "id": "87eb946f-f34c-4dc8-9e3f-cdab5dd3d172",
   "metadata": {},
   "outputs": [
    {
     "data": {
      "text/plain": [
       "\u001b[1;31mInit signature:\u001b[0m \u001b[0mdatetime\u001b[0m\u001b[1;33m.\u001b[0m\u001b[0mtimedelta\u001b[0m\u001b[1;33m(\u001b[0m\u001b[0mself\u001b[0m\u001b[1;33m,\u001b[0m \u001b[1;33m/\u001b[0m\u001b[1;33m,\u001b[0m \u001b[1;33m*\u001b[0m\u001b[0margs\u001b[0m\u001b[1;33m,\u001b[0m \u001b[1;33m**\u001b[0m\u001b[0mkwargs\u001b[0m\u001b[1;33m)\u001b[0m\u001b[1;33m\u001b[0m\u001b[1;33m\u001b[0m\u001b[0m\n",
       "\u001b[1;31mDocstring:\u001b[0m     \n",
       "Difference between two datetime values.\n",
       "\n",
       "timedelta(days=0, seconds=0, microseconds=0, milliseconds=0, minutes=0, hours=0, weeks=0)\n",
       "\n",
       "All arguments are optional and default to 0.\n",
       "Arguments may be integers or floats, and may be positive or negative.\n",
       "\u001b[1;31mFile:\u001b[0m           c:\\users\\toni\\appdata\\local\\programs\\python\\python311\\lib\\datetime.py\n",
       "\u001b[1;31mType:\u001b[0m           type\n",
       "\u001b[1;31mSubclasses:\u001b[0m     "
      ]
     },
     "metadata": {},
     "output_type": "display_data"
    }
   ],
   "source": [
    "import datetime\n",
    "datetime.timedelta?"
   ]
  },
  {
   "cell_type": "markdown",
   "id": "18168670-2b2a-4349-916c-463494529197",
   "metadata": {},
   "source": [
    "**Exercise 4.**"
   ]
  },
  {
   "cell_type": "code",
   "execution_count": 38,
   "id": "5678a774-10ff-4fab-aa29-65179aa75e83",
   "metadata": {},
   "outputs": [
    {
     "name": "stdout",
     "output_type": "stream",
     "text": [
      "Overwriting even_numbers.py\n"
     ]
    }
   ],
   "source": [
    "%%writefile even_numbers.py\n",
    "i = 0\n",
    "list_numbers = list()\n",
    "\n",
    "while len(list_numbers) < 100:\n",
    "    list_numbers.append(i)\n",
    "    i = i+2\n",
    "\n",
    "print(list_numbers)"
   ]
  },
  {
   "cell_type": "code",
   "execution_count": 39,
   "id": "d7c022e3-54de-4ca7-9fd2-26e67bd3f57e",
   "metadata": {},
   "outputs": [],
   "source": [
    "# %load even_numbers.py\n",
    "i = 0\n",
    "list_numbers = list()\n",
    "\n",
    "while len(list_numbers) < 100:\n",
    "    list_numbers.append(i)\n",
    "    i = i+2\n",
    "\n",
    "print(list_numbers)\n"
   ]
  },
  {
   "cell_type": "code",
   "execution_count": 40,
   "id": "379d9299-08e4-4c91-8aa0-be7d7eeefd24",
   "metadata": {},
   "outputs": [
    {
     "name": "stdout",
     "output_type": "stream",
     "text": [
      "[0, 2, 4, 6, 8, 10, 12, 14, 16, 18, 20, 22, 24, 26, 28, 30, 32, 34, 36, 38, 40, 42, 44, 46, 48, 50, 52, 54, 56, 58, 60, 62, 64, 66, 68, 70, 72, 74, 76, 78, 80, 82, 84, 86, 88, 90, 92, 94, 96, 98, 100, 102, 104, 106, 108, 110, 112, 114, 116, 118, 120, 122, 124, 126, 128, 130, 132, 134, 136, 138, 140, 142, 144, 146, 148, 150, 152, 154, 156, 158, 160, 162, 164, 166, 168, 170, 172, 174, 176, 178, 180, 182, 184, 186, 188, 190, 192, 194, 196, 198]\n"
     ]
    }
   ],
   "source": [
    "%run even_numbers.py"
   ]
  },
  {
   "cell_type": "markdown",
   "id": "790de99b-f8f6-4515-a33c-91cc535efe3e",
   "metadata": {},
   "source": [
    "**Exercise 5.**"
   ]
  },
  {
   "cell_type": "code",
   "execution_count": 45,
   "id": "9cb08ef7-ae55-46fb-91ab-55113efecb9e",
   "metadata": {},
   "outputs": [
    {
     "name": "stdout",
     "output_type": "stream",
     "text": [
      "Poisson\n",
      "23.6 µs ± 2.1 µs per loop (mean ± std. dev. of 7 runs, 10,000 loops each)\n",
      "1.14 ms ± 55.8 µs per loop (mean ± std. dev. of 7 runs, 1,000 loops each)\n",
      "121 ms ± 3.66 ms per loop (mean ± std. dev. of 7 runs, 10 loops each)\n",
      "Uniform\n",
      "11.8 µs ± 2.3 µs per loop (mean ± std. dev. of 7 runs, 100,000 loops each)\n",
      "273 µs ± 65.3 µs per loop (mean ± std. dev. of 7 runs, 10,000 loops each)\n",
      "26 ms ± 1.61 ms per loop (mean ± std. dev. of 7 runs, 10 loops each)\n",
      "Logistic\n",
      "8.95 µs ± 2.75 µs per loop (mean ± std. dev. of 7 runs, 100,000 loops each)\n",
      "533 µs ± 79.1 µs per loop (mean ± std. dev. of 7 runs, 1,000 loops each)\n",
      "48.6 ms ± 11.3 ms per loop (mean ± std. dev. of 7 runs, 10 loops each)\n"
     ]
    }
   ],
   "source": [
    "import numpy\n",
    "\n",
    "print('Poisson')\n",
    "%timeit numpy.random.poisson(size=100)\n",
    "%timeit numpy.random.poisson(size=10_000)\n",
    "%timeit numpy.random.poisson(size=1_000_000)\n",
    "\n",
    "print('Uniform')\n",
    "%timeit numpy.random.uniform(size=100)\n",
    "%timeit numpy.random.uniform(size=10_000)\n",
    "%timeit numpy.random.uniform(size=1_000_000)\n",
    "\n",
    "print('Logistic')\n",
    "%timeit numpy.random.logistic(size=100)\n",
    "%timeit numpy.random.logistic(size=10_000)\n",
    "%timeit numpy.random.logistic(size=1_000_000)"
   ]
  }
 ],
 "metadata": {
  "kernelspec": {
   "display_name": "Python 3 (ipykernel)",
   "language": "python",
   "name": "python3"
  },
  "language_info": {
   "codemirror_mode": {
    "name": "ipython",
    "version": 3
   },
   "file_extension": ".py",
   "mimetype": "text/x-python",
   "name": "python",
   "nbconvert_exporter": "python",
   "pygments_lexer": "ipython3",
   "version": "3.11.4"
  }
 },
 "nbformat": 4,
 "nbformat_minor": 5
}
