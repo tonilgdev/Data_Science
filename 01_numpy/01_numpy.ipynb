{
 "cells": [
  {
   "cell_type": "markdown",
   "id": "34cbe1be-25e7-44a0-866c-2c4cfd4a3a71",
   "metadata": {},
   "source": [
    "**Exercise 1**"
   ]
  },
  {
   "cell_type": "code",
   "execution_count": 48,
   "id": "b2f8369f-401d-4440-ae69-aad9594b0cb7",
   "metadata": {},
   "outputs": [
    {
     "data": {
      "text/plain": [
       "array([88, 23, 39, 41])"
      ]
     },
     "execution_count": 48,
     "metadata": {},
     "output_type": "execute_result"
    }
   ],
   "source": [
    "import numpy as np\n",
    "\n",
    "array1 = np.array([88,23,39,41])\n",
    "array1"
   ]
  },
  {
   "cell_type": "code",
   "execution_count": 49,
   "id": "e5ac0d87-c8a0-4e66-84b7-74dd63601b2e",
   "metadata": {},
   "outputs": [
    {
     "data": {
      "text/plain": [
       "1"
      ]
     },
     "execution_count": 49,
     "metadata": {},
     "output_type": "execute_result"
    }
   ],
   "source": [
    "array1.ndim"
   ]
  },
  {
   "cell_type": "code",
   "execution_count": 50,
   "id": "db8e3b6d-66e9-47f9-9f43-e9fe6ad90f75",
   "metadata": {},
   "outputs": [
    {
     "data": {
      "text/plain": [
       "4"
      ]
     },
     "execution_count": 50,
     "metadata": {},
     "output_type": "execute_result"
    }
   ],
   "source": [
    "array1.size"
   ]
  },
  {
   "cell_type": "code",
   "execution_count": 51,
   "id": "8d6349cf-e1b4-48f8-980a-a3362c42a028",
   "metadata": {},
   "outputs": [
    {
     "data": {
      "text/plain": [
       "(4,)"
      ]
     },
     "execution_count": 51,
     "metadata": {},
     "output_type": "execute_result"
    }
   ],
   "source": [
    "array1.shape"
   ]
  },
  {
   "cell_type": "code",
   "execution_count": 52,
   "id": "348ff6c4-3501-4d4d-854b-bb35e21328b5",
   "metadata": {},
   "outputs": [
    {
     "data": {
      "text/plain": [
       "dtype('int32')"
      ]
     },
     "execution_count": 52,
     "metadata": {},
     "output_type": "execute_result"
    }
   ],
   "source": [
    "array1.dtype"
   ]
  },
  {
   "cell_type": "code",
   "execution_count": 17,
   "id": "6ea4699d-e206-4c05-8f9a-bacedcb0162d",
   "metadata": {},
   "outputs": [
    {
     "data": {
      "text/plain": [
       "array([[76.4, 21.7, 38.4],\n",
       "       [41.2, 52.8, 68.9]])"
      ]
     },
     "execution_count": 17,
     "metadata": {},
     "output_type": "execute_result"
    }
   ],
   "source": [
    "array2 = np.array([[76.4,21.7,38.4],[41.2,52.8,68.9]])\n",
    "array2"
   ]
  },
  {
   "cell_type": "code",
   "execution_count": 20,
   "id": "5ac0a582-fa5f-4c1a-9ed9-c5c755d766c9",
   "metadata": {},
   "outputs": [
    {
     "data": {
      "text/plain": [
       "2"
      ]
     },
     "execution_count": 20,
     "metadata": {},
     "output_type": "execute_result"
    }
   ],
   "source": [
    "array2.ndim"
   ]
  },
  {
   "cell_type": "code",
   "execution_count": 21,
   "id": "652e3b06-db34-40f7-b4c7-b660e371f72e",
   "metadata": {},
   "outputs": [
    {
     "data": {
      "text/plain": [
       "6"
      ]
     },
     "execution_count": 21,
     "metadata": {},
     "output_type": "execute_result"
    }
   ],
   "source": [
    "array2.size"
   ]
  },
  {
   "cell_type": "code",
   "execution_count": 22,
   "id": "0263c72c-7ebc-437d-aa50-7d7b893efad6",
   "metadata": {},
   "outputs": [
    {
     "data": {
      "text/plain": [
       "(2, 3)"
      ]
     },
     "execution_count": 22,
     "metadata": {},
     "output_type": "execute_result"
    }
   ],
   "source": [
    "array2.shape"
   ]
  },
  {
   "cell_type": "code",
   "execution_count": 23,
   "id": "78889f6c-cfa5-4415-bce7-359df27d99ed",
   "metadata": {},
   "outputs": [
    {
     "data": {
      "text/plain": [
       "dtype('float64')"
      ]
     },
     "execution_count": 23,
     "metadata": {},
     "output_type": "execute_result"
    }
   ],
   "source": [
    "array2.dtype"
   ]
  },
  {
   "cell_type": "code",
   "execution_count": 43,
   "id": "7f4ce3cc-6a66-4c9d-aaee-e919f8149ff6",
   "metadata": {},
   "outputs": [
    {
     "data": {
      "text/plain": [
       "array([[12],\n",
       "       [ 4],\n",
       "       [ 9],\n",
       "       [ 8]])"
      ]
     },
     "execution_count": 43,
     "metadata": {},
     "output_type": "execute_result"
    }
   ],
   "source": [
    "array3 = np.array([[12],[4],[9],[8]])\n",
    "array3"
   ]
  },
  {
   "cell_type": "code",
   "execution_count": 44,
   "id": "535e79a8-6954-45f3-b11b-d1bb8fab634f",
   "metadata": {},
   "outputs": [
    {
     "data": {
      "text/plain": [
       "2"
      ]
     },
     "execution_count": 44,
     "metadata": {},
     "output_type": "execute_result"
    }
   ],
   "source": [
    "array3.ndim"
   ]
  },
  {
   "cell_type": "code",
   "execution_count": 45,
   "id": "d1e56993-0c90-46d0-98e1-1d09fd10b435",
   "metadata": {},
   "outputs": [
    {
     "data": {
      "text/plain": [
       "4"
      ]
     },
     "execution_count": 45,
     "metadata": {},
     "output_type": "execute_result"
    }
   ],
   "source": [
    "array3.size"
   ]
  },
  {
   "cell_type": "code",
   "execution_count": 46,
   "id": "751e857b-9e21-48b6-ba60-06634f4c0479",
   "metadata": {},
   "outputs": [
    {
     "data": {
      "text/plain": [
       "(4, 1)"
      ]
     },
     "execution_count": 46,
     "metadata": {},
     "output_type": "execute_result"
    }
   ],
   "source": [
    "array3.shape"
   ]
  },
  {
   "cell_type": "code",
   "execution_count": 47,
   "id": "ef6fd319-30cf-4121-bdb9-9379c18866aa",
   "metadata": {},
   "outputs": [
    {
     "data": {
      "text/plain": [
       "dtype('int32')"
      ]
     },
     "execution_count": 47,
     "metadata": {},
     "output_type": "execute_result"
    }
   ],
   "source": [
    "array3.dtype"
   ]
  },
  {
   "cell_type": "markdown",
   "id": "83ceb34b-b764-45c2-9e99-c41ea043d071",
   "metadata": {},
   "source": [
    "**Exercise 2**"
   ]
  },
  {
   "cell_type": "code",
   "execution_count": 62,
   "id": "bae80c46-b8cf-4594-8b7f-c053076585cc",
   "metadata": {},
   "outputs": [
    {
     "data": {
      "text/plain": [
       "array([[ 0,  0,  0, ...,  0,  0,  0],\n",
       "       [ 0,  1,  0, ...,  0,  0,  0],\n",
       "       [ 0,  0,  2, ...,  0,  0,  0],\n",
       "       ...,\n",
       "       [ 0,  0,  0, ..., 47,  0,  0],\n",
       "       [ 0,  0,  0, ...,  0, 48,  0],\n",
       "       [ 0,  0,  0, ...,  0,  0, 49]])"
      ]
     },
     "execution_count": 62,
     "metadata": {},
     "output_type": "execute_result"
    }
   ],
   "source": [
    "M_diag = np.diag(range(int(50)))\n",
    "M_diag"
   ]
  },
  {
   "cell_type": "code",
   "execution_count": 63,
   "id": "2b07ab4b-9e66-4db8-824c-d1da0bf9dccf",
   "metadata": {},
   "outputs": [
    {
     "data": {
      "text/plain": [
       "2"
      ]
     },
     "execution_count": 63,
     "metadata": {},
     "output_type": "execute_result"
    }
   ],
   "source": [
    "M_diag.ndim"
   ]
  },
  {
   "cell_type": "code",
   "execution_count": 64,
   "id": "73b7a6b5-4451-4e96-b2ff-7b2dd802250d",
   "metadata": {},
   "outputs": [
    {
     "data": {
      "text/plain": [
       "2500"
      ]
     },
     "execution_count": 64,
     "metadata": {},
     "output_type": "execute_result"
    }
   ],
   "source": [
    "M_diag.size"
   ]
  },
  {
   "cell_type": "code",
   "execution_count": 65,
   "id": "9cf06d24-392b-46c5-84a6-4a3a8506a3a4",
   "metadata": {},
   "outputs": [
    {
     "data": {
      "text/plain": [
       "(50, 50)"
      ]
     },
     "execution_count": 65,
     "metadata": {},
     "output_type": "execute_result"
    }
   ],
   "source": [
    "M_diag.shape"
   ]
  },
  {
   "cell_type": "code",
   "execution_count": 66,
   "id": "5c9b3ea3-fc9f-4b4b-93e1-1f4fad9d73c0",
   "metadata": {},
   "outputs": [
    {
     "data": {
      "text/plain": [
       "dtype('int32')"
      ]
     },
     "execution_count": 66,
     "metadata": {},
     "output_type": "execute_result"
    }
   ],
   "source": [
    "M_diag.dtype"
   ]
  },
  {
   "cell_type": "markdown",
   "id": "a465a3d3-87d0-4c8b-838d-604c13b50ee2",
   "metadata": {},
   "source": [
    "**Exercise 3**"
   ]
  },
  {
   "cell_type": "code",
   "execution_count": 70,
   "id": "91f4440c-9478-466b-955b-1221ee88661e",
   "metadata": {},
   "outputs": [
    {
     "data": {
      "text/plain": [
       "array([[ 1.        ,  1.09090909,  1.18181818,  1.27272727,  1.36363636],\n",
       "       [ 1.45454545,  1.54545455,  1.63636364,  1.72727273,  1.81818182],\n",
       "       [ 1.90909091,  2.        ,  2.09090909,  2.18181818,  2.27272727],\n",
       "       [ 2.36363636,  2.45454545,  2.54545455,  2.63636364,  2.72727273],\n",
       "       [ 2.81818182,  2.90909091,  3.        ,  3.09090909,  3.18181818],\n",
       "       [ 3.27272727,  3.36363636,  3.45454545,  3.54545455,  3.63636364],\n",
       "       [ 3.72727273,  3.81818182,  3.90909091,  4.        ,  4.09090909],\n",
       "       [ 4.18181818,  4.27272727,  4.36363636,  4.45454545,  4.54545455],\n",
       "       [ 4.63636364,  4.72727273,  4.81818182,  4.90909091,  5.        ],\n",
       "       [ 5.09090909,  5.18181818,  5.27272727,  5.36363636,  5.45454545],\n",
       "       [ 5.54545455,  5.63636364,  5.72727273,  5.81818182,  5.90909091],\n",
       "       [ 6.        ,  6.09090909,  6.18181818,  6.27272727,  6.36363636],\n",
       "       [ 6.45454545,  6.54545455,  6.63636364,  6.72727273,  6.81818182],\n",
       "       [ 6.90909091,  7.        ,  7.09090909,  7.18181818,  7.27272727],\n",
       "       [ 7.36363636,  7.45454545,  7.54545455,  7.63636364,  7.72727273],\n",
       "       [ 7.81818182,  7.90909091,  8.        ,  8.09090909,  8.18181818],\n",
       "       [ 8.27272727,  8.36363636,  8.45454545,  8.54545455,  8.63636364],\n",
       "       [ 8.72727273,  8.81818182,  8.90909091,  9.        ,  9.09090909],\n",
       "       [ 9.18181818,  9.27272727,  9.36363636,  9.45454545,  9.54545455],\n",
       "       [ 9.63636364,  9.72727273,  9.81818182,  9.90909091, 10.        ]])"
      ]
     },
     "execution_count": 70,
     "metadata": {},
     "output_type": "execute_result"
    }
   ],
   "source": [
    "#array(20,5) float [1,10] equiespaciados\n",
    "np.linspace(1,10, 100).reshape(20,5)"
   ]
  },
  {
   "cell_type": "code",
   "execution_count": 71,
   "id": "0cf9967a-d7b0-4eeb-a385-f8fcfc1817db",
   "metadata": {},
   "outputs": [
    {
     "data": {
      "text/plain": [
       "array([ 1.05600473e+00, -4.01626074e+00,  4.87905847e+00,  1.60593540e+00,\n",
       "        1.47882033e+00, -8.42388266e-01,  2.37609562e-01, -2.69026270e-01,\n",
       "        4.03831851e+00, -1.04556969e+00,  5.21825564e-01,  1.81415492e+00,\n",
       "        1.79160187e+00, -9.00553272e-01,  5.78370279e-01, -4.11259506e-01,\n",
       "        2.70275489e+00, -3.48289909e+00,  1.79351065e+00,  2.22276033e+00,\n",
       "       -9.78096584e-01,  4.97391753e-01,  4.43518127e+00,  9.16721150e-01,\n",
       "        1.22370725e+00, -8.99945888e-01,  2.55860211e+00,  4.70097773e+00,\n",
       "       -1.68760788e+00, -2.41296526e+00,  5.37425183e+00,  7.77056227e-01,\n",
       "       -1.42136662e+00, -1.91765611e-03,  1.49249753e+00, -4.30460766e+00,\n",
       "        5.98996197e-01,  3.34037184e+00, -2.79935190e+00, -4.30550928e-03,\n",
       "        2.17741343e+00,  9.08655301e-01,  8.30161416e-01,  1.84426138e+00,\n",
       "        1.22162304e+00,  2.93433544e-01, -9.17880553e-01,  4.14994961e+00,\n",
       "        2.47966958e+00,  1.20759968e+00,  1.26994912e+00, -6.18074288e-01,\n",
       "        3.18912219e+00,  3.53098264e+00,  2.28044698e+00, -1.12646808e-01,\n",
       "        2.35432428e+00,  3.56836863e+00,  1.49534760e+00, -3.08064484e-01,\n",
       "        2.73603715e+00,  8.55581860e-01,  9.19435861e-01,  2.81199159e-01,\n",
       "        2.72861095e+00,  3.08437071e+00, -1.24062730e-01,  2.81439077e+00,\n",
       "        5.64607431e-01,  2.25922984e+00, -4.89888567e-01,  1.94091202e+00,\n",
       "        3.43602507e+00,  3.20845340e+00, -1.13690830e+00,  7.35292211e-01,\n",
       "       -8.92606572e-02,  3.08356087e+00,  4.52062411e+00,  2.93055086e+00,\n",
       "        2.57524192e+00, -1.59367632e-01,  7.84416340e-01,  4.44834202e+00,\n",
       "       -8.29566554e-01, -3.73515942e+00,  4.36668948e-01,  2.16670235e+00,\n",
       "       -1.15138895e+00,  4.98500366e+00,  1.70785865e+00,  6.72329072e-01,\n",
       "       -6.90180226e-02, -1.10701412e+00, -1.36021227e+00,  8.45306677e-01,\n",
       "        2.00310827e+00, -3.48650633e-01, -5.73833763e-01,  9.53451156e-01,\n",
       "        2.71669699e+00, -2.87673367e-01,  3.95148352e-01,  2.74733955e+00,\n",
       "       -1.34816202e+00,  2.88540089e+00, -1.80716362e+00,  2.58696037e+00,\n",
       "        2.93675865e+00,  3.41414948e+00,  1.65565183e+00,  2.48642193e+00,\n",
       "       -1.59982883e+00,  3.05561147e+00,  4.52847091e+00,  1.50824253e+00,\n",
       "        1.24868987e+00,  2.58363523e+00, -2.79314554e+00,  9.49375925e-01,\n",
       "       -1.01177219e+00, -6.32158399e-01, -3.71790316e-01,  2.62226936e+00,\n",
       "        9.86460848e-01,  1.61454081e+00,  1.38219143e+00,  2.49512658e+00])"
      ]
     },
     "execution_count": 71,
     "metadata": {},
     "output_type": "execute_result"
    }
   ],
   "source": [
    "np.random.normal(1,2,128)"
   ]
  },
  {
   "cell_type": "code",
   "execution_count": 73,
   "id": "61de160c-7669-413c-8eb5-86b79201eaad",
   "metadata": {},
   "outputs": [
    {
     "data": {
      "text/plain": [
       "array(['2', '1', 'x', 'x', '1', '2', 'x', 'x', 'x', '1', 'x', '2', '1',\n",
       "       '2', '1'], dtype='<U1')"
      ]
     },
     "execution_count": 73,
     "metadata": {},
     "output_type": "execute_result"
    }
   ],
   "source": [
    "np.random.choice(['2','x','1'],size=15,p=[.5,.3,.2])"
   ]
  },
  {
   "cell_type": "markdown",
   "id": "4237ec05-738f-4ed2-92f1-b761ac5567c6",
   "metadata": {},
   "source": [
    "**Exercise 4**"
   ]
  },
  {
   "cell_type": "code",
   "execution_count": 75,
   "id": "4ba008f2-d696-4718-b563-9d28566af546",
   "metadata": {},
   "outputs": [
    {
     "data": {
      "text/plain": [
       "array([[17, 12, 31],\n",
       "       [49, 11, 51],\n",
       "       [21, 31, 62],\n",
       "       [63, 75, 22]])"
      ]
     },
     "execution_count": 75,
     "metadata": {},
     "output_type": "execute_result"
    }
   ],
   "source": [
    "original_matrix = np.array([[17,12,31],[49,11,51],[21,31,62],[63,75,22]])\n",
    "original_matrix"
   ]
  },
  {
   "cell_type": "code",
   "execution_count": 88,
   "id": "ce5c624a-6857-449a-bfdf-203e3ecce181",
   "metadata": {},
   "outputs": [
    {
     "data": {
      "text/plain": [
       "array([[17, 12, 31, 63],\n",
       "       [49, 11, 51, 75],\n",
       "       [21, 31, 62, 22]])"
      ]
     },
     "execution_count": 88,
     "metadata": {},
     "output_type": "execute_result"
    }
   ],
   "source": [
    "row = original_matrix[3,:]\n",
    "matrix2 = np.delete(original_matrix,3,0)\n",
    "matrix2 = np.append(matrix2,row.reshape(3,-1),axis=1)\n",
    "matrix2"
   ]
  },
  {
   "cell_type": "code",
   "execution_count": 89,
   "id": "770cec08-9130-439b-89cb-d2f4e2365d64",
   "metadata": {},
   "outputs": [
    {
     "data": {
      "text/plain": [
       "array([[17, 12, 31, 63],\n",
       "       [49, 49, 49, 63],\n",
       "       [21, 31, 62, 63]])"
      ]
     },
     "execution_count": 89,
     "metadata": {},
     "output_type": "execute_result"
    }
   ],
   "source": [
    "matrix3 = matrix2\n",
    "matrix3[1,0:3] = 49\n",
    "matrix3[:,3] = 63\n",
    "matrix3"
   ]
  },
  {
   "cell_type": "markdown",
   "id": "244855df-3b9a-4ba0-8889-583f56cc996f",
   "metadata": {},
   "source": [
    "**Exercise 5**"
   ]
  },
  {
   "cell_type": "code",
   "execution_count": 91,
   "id": "2430523e-049f-482f-ad21-a5370431ee96",
   "metadata": {},
   "outputs": [
    {
     "data": {
      "text/plain": [
       "array([[10, 11, 12, 13],\n",
       "       [14, 15, 16, 17],\n",
       "       [18, 19, 20, 21]])"
      ]
     },
     "execution_count": 91,
     "metadata": {},
     "output_type": "execute_result"
    }
   ],
   "source": [
    "matrix = np.array([[10,11,12,13],[14,15,16,17],[18,19,20,21]])\n",
    "matrix"
   ]
  },
  {
   "cell_type": "code",
   "execution_count": 97,
   "id": "a7fe9466-3518-4000-bdf0-a3e9a38261b5",
   "metadata": {},
   "outputs": [
    {
     "data": {
      "text/plain": [
       "array([11, 13, 15, 17, 19, 21])"
      ]
     },
     "execution_count": 97,
     "metadata": {},
     "output_type": "execute_result"
    }
   ],
   "source": [
    "odds_values = matrix[matrix%2 != 0]\n",
    "odds_values"
   ]
  },
  {
   "cell_type": "markdown",
   "id": "5443b03c-1904-45a5-950e-1d72515f15e2",
   "metadata": {},
   "source": [
    "**Exercise 6**"
   ]
  },
  {
   "cell_type": "code",
   "execution_count": 116,
   "id": "85b8bc17-4c16-4c02-a328-d1e2f09acd23",
   "metadata": {},
   "outputs": [
    {
     "data": {
      "text/plain": [
       "array([[32, 26,  2, 83, 45, 70, 92, 68, 24, 74],\n",
       "       [60, 56, 26, 73, 35, 25, 33, 60, 51, 50],\n",
       "       [89, 19, 54, 15, 41,  2, 73, 80, 48, 56],\n",
       "       [13, 41, 35, 96, 89, 37, 28, 72, 84, 25],\n",
       "       [90, 70, 90, 85,  5, 29, 31, 54,  6, 21],\n",
       "       [63, 71, 35, 86, 36, 28, 49, 74, 30, 56],\n",
       "       [ 3, 25, 62,  0, 64, 40, 12, 36, 13, 38],\n",
       "       [75, 65, 76, 83, 34, 58, 70, 10, 69, 68],\n",
       "       [13, 98, 91,  9,  3, 65, 47, 88,  3,  1],\n",
       "       [26, 75, 76, 39,  7,  3, 16,  0, 80, 99]])"
      ]
     },
     "execution_count": 116,
     "metadata": {},
     "output_type": "execute_result"
    }
   ],
   "source": [
    "or_matrix = np.random.randint(0,100, size=(10,10))\n",
    "or_matrix"
   ]
  },
  {
   "cell_type": "code",
   "execution_count": 117,
   "id": "a61c3951-fbff-43e2-ba57-e79ed1b61acd",
   "metadata": {},
   "outputs": [
    {
     "data": {
      "text/plain": [
       "array([[50, 26,  2, 83, 45, 70, 92, 68, 24, 74],\n",
       "       [60, 50, 26, 73, 35, 25, 33, 60, 51, 50],\n",
       "       [89, 19, 50, 15, 41,  2, 73, 80, 48, 56],\n",
       "       [13, 41, 35, 50, 89, 37, 28, 72, 84, 25],\n",
       "       [90, 70, 90, 85, 50, 29, 31, 54,  6, 21],\n",
       "       [63, 71, 35, 86, 36, 50, 49, 74, 30, 56],\n",
       "       [ 3, 25, 62,  0, 64, 40, 50, 36, 13, 38],\n",
       "       [75, 65, 76, 83, 34, 58, 70, 50, 69, 68],\n",
       "       [13, 98, 91,  9,  3, 65, 47, 88, 50,  1],\n",
       "       [26, 75, 76, 39,  7,  3, 16,  0, 80, 50]])"
      ]
     },
     "execution_count": 117,
     "metadata": {},
     "output_type": "execute_result"
    }
   ],
   "source": [
    "matrix1 = or_matrix.copy()\n",
    "matrix1[np.diag_indices(matrix1.shape[0])] = 50\n",
    "matrix1"
   ]
  },
  {
   "cell_type": "code",
   "execution_count": 118,
   "id": "51c9785e-6b02-446f-a4a3-2ec36e12b1ad",
   "metadata": {},
   "outputs": [
    {
     "data": {
      "text/plain": [
       "array([[ 32,  26,   2, 100,  45, 100, 100, 100,  24, 100],\n",
       "       [100, 100,  26, 100,  35,  25,  33, 100, 100,  50],\n",
       "       [100,  19, 100,  15,  41,   2, 100, 100,  48, 100],\n",
       "       [ 13,  41,  35, 100, 100,  37,  28, 100, 100,  25],\n",
       "       [100, 100, 100, 100,   5,  29,  31, 100,   6,  21],\n",
       "       [100, 100,  35, 100,  36,  28,  49, 100,  30, 100],\n",
       "       [  3,  25, 100,   0, 100,  40,  12,  36,  13,  38],\n",
       "       [100, 100, 100, 100,  34, 100, 100,  10, 100, 100],\n",
       "       [ 13, 100, 100,   9,   3, 100,  47, 100,   3,   1],\n",
       "       [ 26, 100, 100,  39,   7,   3,  16,   0, 100, 100]])"
      ]
     },
     "execution_count": 118,
     "metadata": {},
     "output_type": "execute_result"
    }
   ],
   "source": [
    "matrix2 = or_matrix.copy()\n",
    "matrix2[matrix2>50] = 100\n",
    "matrix2"
   ]
  },
  {
   "cell_type": "code",
   "execution_count": 119,
   "id": "ea1ed2bd-ebd4-410d-8197-29f3165e0b80",
   "metadata": {},
   "outputs": [
    {
     "data": {
      "text/plain": [
       "array([[ 0,  0,  0, 83,  0, 70, 92, 68,  0, 74],\n",
       "       [60, 56,  0, 73,  0,  0,  0, 60, 51, 50],\n",
       "       [89,  0, 54,  0,  0,  0, 73, 80,  0, 56],\n",
       "       [ 0,  0,  0, 96, 89,  0,  0, 72, 84,  0],\n",
       "       [90, 70, 90, 85,  0,  0,  0, 54,  0,  0],\n",
       "       [63, 71,  0, 86,  0,  0,  0, 74,  0, 56],\n",
       "       [ 0,  0, 62,  0, 64,  0,  0,  0,  0,  0],\n",
       "       [75, 65, 76, 83,  0, 58, 70,  0, 69, 68],\n",
       "       [ 0, 98, 91,  0,  0, 65,  0, 88,  0,  0],\n",
       "       [ 0, 75, 76,  0,  0,  0,  0,  0, 80, 99]])"
      ]
     },
     "execution_count": 119,
     "metadata": {},
     "output_type": "execute_result"
    }
   ],
   "source": [
    "matrix3 = or_matrix.copy()\n",
    "matrix3[matrix3<50] = 0\n",
    "matrix3"
   ]
  },
  {
   "cell_type": "code",
   "execution_count": 120,
   "id": "0e0d4d07-e48c-45bc-8204-dcc41b7e39ae",
   "metadata": {},
   "outputs": [
    {
     "data": {
      "text/plain": [
       "array([[ 50,   0,   0,   0, 100,   0,   0,   0, 100, 100],\n",
       "       [  0,  50, 100, 100,   0,   0, 100, 100, 100,   0],\n",
       "       [  0, 100,  50,   0,   0, 100,   0, 100,   0, 100],\n",
       "       [100,   0, 100,  50,   0, 100,   0,   0, 100,   0],\n",
       "       [  0, 100, 100,   0,  50, 100,   0, 100,   0, 100],\n",
       "       [100, 100, 100,   0,   0,  50, 100,   0,   0, 100],\n",
       "       [  0, 100, 100, 100, 100,   0,  50, 100,   0, 100],\n",
       "       [  0, 100, 100, 100,   0, 100,   0,  50,   0, 100],\n",
       "       [  0, 100,   0,   0, 100,   0,   0,   0,  50, 100],\n",
       "       [100, 100,   0,   0, 100, 100, 100,   0, 100,  50]])"
      ]
     },
     "execution_count": 120,
     "metadata": {},
     "output_type": "execute_result"
    }
   ],
   "source": [
    "or_matrix2 = np.random.randint(0,100, size=(10,10))\n",
    "or_matrix2[np.diag_indices(or_matrix2.shape[0])] = 50\n",
    "or_matrix2[or_matrix2>50] = 100\n",
    "or_matrix2[or_matrix2<50] = 0\n",
    "or_matrix2"
   ]
  },
  {
   "cell_type": "markdown",
   "id": "d5c11d86-6896-4bd7-9198-a58b3ea4a294",
   "metadata": {},
   "source": [
    "**Exercise 7**"
   ]
  },
  {
   "cell_type": "code",
   "execution_count": 121,
   "id": "f564e59e-2236-4e1d-ab67-03878e02f8ed",
   "metadata": {},
   "outputs": [
    {
     "data": {
      "text/plain": [
       "-3.8981718325193755e-17"
      ]
     },
     "execution_count": 121,
     "metadata": {},
     "output_type": "execute_result"
    }
   ],
   "source": [
    "k = 20\n",
    "theta = 2*np.pi\n",
    "right_part = np.sin(theta)/theta\n",
    "right_part"
   ]
  },
  {
   "cell_type": "code",
   "execution_count": 124,
   "id": "17472686-40e2-4f32-bddb-507c52bf7845",
   "metadata": {},
   "outputs": [
    {
     "data": {
      "text/plain": [
       "-3.8981718326126866e-17"
      ]
     },
     "execution_count": 124,
     "metadata": {},
     "output_type": "execute_result"
    }
   ],
   "source": [
    "left_part = np.arange(1,k, dtype='float64')\n",
    "left_part = np.cos(theta/np.power(2,left_part))\n",
    "left_part = np.prod(left_part)\n",
    "left_part"
   ]
  },
  {
   "cell_type": "markdown",
   "id": "9225fb78-1345-4eb7-9180-ccf67cf99155",
   "metadata": {},
   "source": [
    "**Exercise 8**"
   ]
  },
  {
   "cell_type": "code",
   "execution_count": 138,
   "id": "e3bac86f-df1d-4385-8e84-d232e4548d07",
   "metadata": {},
   "outputs": [],
   "source": [
    "matrix1 = np.random.uniform(0,1000,size=(20,20))\n",
    "matrix2 = np.random.uniform(0,1000,size=(20,20))"
   ]
  },
  {
   "cell_type": "code",
   "execution_count": 144,
   "id": "8d290244-8b52-4bb5-8cf2-ab2675a014e7",
   "metadata": {},
   "outputs": [
    {
     "name": "stdout",
     "output_type": "stream",
     "text": [
      "226 µs ± 8.59 µs per loop (mean ± std. dev. of 7 runs, 10,000 loops each)\n"
     ]
    }
   ],
   "source": [
    "med = np.vectorize(lambda a, b: (a + b) / 2)\n",
    "%timeit med(matrix1,matrix2)"
   ]
  },
  {
   "cell_type": "code",
   "execution_count": 140,
   "id": "9c3c4095-f7f5-4f73-b102-e6b1de172a64",
   "metadata": {},
   "outputs": [
    {
     "name": "stdout",
     "output_type": "stream",
     "text": [
      "5.85 µs ± 108 ns per loop (mean ± std. dev. of 7 runs, 100,000 loops each)\n"
     ]
    }
   ],
   "source": [
    "%timeit (matrix1+matrix2)/2"
   ]
  },
  {
   "cell_type": "markdown",
   "id": "7ef644ac-d8fd-4273-be35-8b066638d54b",
   "metadata": {},
   "source": [
    "**Exercise 9**"
   ]
  },
  {
   "cell_type": "code",
   "execution_count": 146,
   "id": "c515e300-efe7-4d40-a8eb-0a93d6bcacdc",
   "metadata": {},
   "outputs": [
    {
     "data": {
      "text/plain": [
       "array([[1, 2],\n",
       "       [3, 5]])"
      ]
     },
     "execution_count": 146,
     "metadata": {},
     "output_type": "execute_result"
    }
   ],
   "source": [
    "matrix = np.array([[1,2],[3,5]])\n",
    "matrix"
   ]
  },
  {
   "cell_type": "code",
   "execution_count": 150,
   "id": "15f28126-c3c0-414f-b20b-5f88e9995414",
   "metadata": {},
   "outputs": [
    {
     "data": {
      "text/plain": [
       "array([[1., 0.],\n",
       "       [0., 1.]])"
      ]
     },
     "execution_count": 150,
     "metadata": {},
     "output_type": "execute_result"
    }
   ],
   "source": [
    "iden = np.eye(2)\n",
    "iden"
   ]
  },
  {
   "cell_type": "code",
   "execution_count": 151,
   "id": "f290d560-79d8-40ff-a800-39146558291b",
   "metadata": {},
   "outputs": [
    {
     "data": {
      "text/plain": [
       "array([[0., 0.],\n",
       "       [0., 0.]])"
      ]
     },
     "execution_count": 151,
     "metadata": {},
     "output_type": "execute_result"
    }
   ],
   "source": [
    "np.dot(matrix,matrix)-6*matrix-iden"
   ]
  },
  {
   "cell_type": "markdown",
   "id": "5c0ec599-1539-46ef-952b-3d10198b8206",
   "metadata": {},
   "source": [
    "**Exercise 10**"
   ]
  },
  {
   "cell_type": "code",
   "execution_count": 153,
   "id": "80c65cf6-7056-46f9-8976-063a91872cd6",
   "metadata": {},
   "outputs": [],
   "source": [
    "A = np.array([[1,-2,1],[3,0,1]])\n",
    "B = np.array([[4,0,-1],[-2,1,0]])"
   ]
  },
  {
   "cell_type": "code",
   "execution_count": 155,
   "id": "b57d655b-720f-43fc-b660-48410ecad616",
   "metadata": {},
   "outputs": [
    {
     "data": {
      "text/plain": [
       "array([[ 5,  1],\n",
       "       [-2,  1],\n",
       "       [ 0,  1]])"
      ]
     },
     "execution_count": 155,
     "metadata": {},
     "output_type": "execute_result"
    }
   ],
   "source": [
    "l_p1 = (A+B).T\n",
    "l_p1"
   ]
  },
  {
   "cell_type": "code",
   "execution_count": 157,
   "id": "28483bdf-3c67-47a3-a8db-9b7b0384112a",
   "metadata": {},
   "outputs": [
    {
     "data": {
      "text/plain": [
       "array([[ 5,  1],\n",
       "       [-2,  1],\n",
       "       [ 0,  1]])"
      ]
     },
     "execution_count": 157,
     "metadata": {},
     "output_type": "execute_result"
    }
   ],
   "source": [
    "r_p1 = A.T+B.T\n",
    "r_p1"
   ]
  },
  {
   "cell_type": "code",
   "execution_count": 158,
   "id": "6d2cc894-8b27-4ceb-9cb5-28f24aa34f52",
   "metadata": {},
   "outputs": [
    {
     "data": {
      "text/plain": [
       "array([[ 3,  9],\n",
       "       [-6,  0],\n",
       "       [ 3,  3]])"
      ]
     },
     "execution_count": 158,
     "metadata": {},
     "output_type": "execute_result"
    }
   ],
   "source": [
    "l_p2 = (3*A).T\n",
    "l_p2"
   ]
  },
  {
   "cell_type": "code",
   "execution_count": 159,
   "id": "829a59b2-412c-4cbe-ab7e-0b11412c81f3",
   "metadata": {},
   "outputs": [
    {
     "data": {
      "text/plain": [
       "array([[ 3,  9],\n",
       "       [-6,  0],\n",
       "       [ 3,  3]])"
      ]
     },
     "execution_count": 159,
     "metadata": {},
     "output_type": "execute_result"
    }
   ],
   "source": [
    "r_p2 = 3*A.T\n",
    "r_p2"
   ]
  },
  {
   "cell_type": "markdown",
   "id": "fea4e886-fb24-4531-8062-991552d8e481",
   "metadata": {},
   "source": [
    "**Exercise 11**"
   ]
  },
  {
   "cell_type": "code",
   "execution_count": 161,
   "id": "588de9f2-7154-4b36-826b-6a354896ac8a",
   "metadata": {},
   "outputs": [],
   "source": [
    "A = np.array([[4,5,-1],[-3,-4,1],[-3,-4,0]])"
   ]
  },
  {
   "cell_type": "code",
   "execution_count": 169,
   "id": "19989ddd-1dfd-4ea0-8936-676e2840e571",
   "metadata": {},
   "outputs": [
    {
     "data": {
      "text/plain": [
       "array([[1, 0, 0],\n",
       "       [0, 1, 0],\n",
       "       [0, 0, 1]])"
      ]
     },
     "execution_count": 169,
     "metadata": {},
     "output_type": "execute_result"
    }
   ],
   "source": [
    "np.linalg.matrix_power(A,9)"
   ]
  },
  {
   "cell_type": "markdown",
   "id": "1285365a-aebd-48f2-b079-0ba6263f5f92",
   "metadata": {},
   "source": [
    "**Exercise 12**"
   ]
  },
  {
   "cell_type": "code",
   "execution_count": 174,
   "id": "2aead364-b84a-4a5e-838d-eeba4492134e",
   "metadata": {},
   "outputs": [
    {
     "data": {
      "text/plain": [
       "array([[ 3,  4, -1],\n",
       "       [ 5, -2,  1],\n",
       "       [ 2, -2,  1]])"
      ]
     },
     "execution_count": 174,
     "metadata": {},
     "output_type": "execute_result"
    }
   ],
   "source": [
    "A = np.array([[3,4,-1],[5,-2,1],[2,-2,1]])\n",
    "A"
   ]
  },
  {
   "cell_type": "code",
   "execution_count": 175,
   "id": "273a7027-913b-4583-ae25-b48f9211b5b8",
   "metadata": {},
   "outputs": [
    {
     "data": {
      "text/plain": [
       "array([[8],\n",
       "       [4],\n",
       "       [1]])"
      ]
     },
     "execution_count": 175,
     "metadata": {},
     "output_type": "execute_result"
    }
   ],
   "source": [
    "B = np.array([8,4,1]).reshape(3,-1)\n",
    "B"
   ]
  },
  {
   "cell_type": "code",
   "execution_count": 176,
   "id": "d2c0e9e5-7268-48cd-ba91-1d249a56d0bc",
   "metadata": {},
   "outputs": [
    {
     "data": {
      "text/plain": [
       "array([[1.],\n",
       "       [2.],\n",
       "       [3.]])"
      ]
     },
     "execution_count": 176,
     "metadata": {},
     "output_type": "execute_result"
    }
   ],
   "source": [
    "np.linalg.solve(A,B)"
   ]
  }
 ],
 "metadata": {
  "kernelspec": {
   "display_name": "Python 3 (ipykernel)",
   "language": "python",
   "name": "python3"
  },
  "language_info": {
   "codemirror_mode": {
    "name": "ipython",
    "version": 3
   },
   "file_extension": ".py",
   "mimetype": "text/x-python",
   "name": "python",
   "nbconvert_exporter": "python",
   "pygments_lexer": "ipython3",
   "version": "3.11.4"
  }
 },
 "nbformat": 4,
 "nbformat_minor": 5
}
