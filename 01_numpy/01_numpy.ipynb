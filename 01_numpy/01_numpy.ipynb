{
 "cells": [
  {
   "cell_type": "markdown",
   "id": "34cbe1be-25e7-44a0-866c-2c4cfd4a3a71",
   "metadata": {},
   "source": [
    "**Exercise 1**"
   ]
  },
  {
   "cell_type": "code",
   "execution_count": 48,
   "id": "b2f8369f-401d-4440-ae69-aad9594b0cb7",
   "metadata": {},
   "outputs": [
    {
     "data": {
      "text/plain": [
       "array([88, 23, 39, 41])"
      ]
     },
     "execution_count": 48,
     "metadata": {},
     "output_type": "execute_result"
    }
   ],
   "source": [
    "import numpy as np\n",
    "\n",
    "array1 = np.array([88,23,39,41])\n",
    "array1"
   ]
  },
  {
   "cell_type": "code",
   "execution_count": 49,
   "id": "e5ac0d87-c8a0-4e66-84b7-74dd63601b2e",
   "metadata": {},
   "outputs": [
    {
     "data": {
      "text/plain": [
       "1"
      ]
     },
     "execution_count": 49,
     "metadata": {},
     "output_type": "execute_result"
    }
   ],
   "source": [
    "array1.ndim"
   ]
  },
  {
   "cell_type": "code",
   "execution_count": 50,
   "id": "db8e3b6d-66e9-47f9-9f43-e9fe6ad90f75",
   "metadata": {},
   "outputs": [
    {
     "data": {
      "text/plain": [
       "4"
      ]
     },
     "execution_count": 50,
     "metadata": {},
     "output_type": "execute_result"
    }
   ],
   "source": [
    "array1.size"
   ]
  },
  {
   "cell_type": "code",
   "execution_count": 51,
   "id": "8d6349cf-e1b4-48f8-980a-a3362c42a028",
   "metadata": {},
   "outputs": [
    {
     "data": {
      "text/plain": [
       "(4,)"
      ]
     },
     "execution_count": 51,
     "metadata": {},
     "output_type": "execute_result"
    }
   ],
   "source": [
    "array1.shape"
   ]
  },
  {
   "cell_type": "code",
   "execution_count": 52,
   "id": "348ff6c4-3501-4d4d-854b-bb35e21328b5",
   "metadata": {},
   "outputs": [
    {
     "data": {
      "text/plain": [
       "dtype('int32')"
      ]
     },
     "execution_count": 52,
     "metadata": {},
     "output_type": "execute_result"
    }
   ],
   "source": [
    "array1.dtype"
   ]
  },
  {
   "cell_type": "code",
   "execution_count": 17,
   "id": "6ea4699d-e206-4c05-8f9a-bacedcb0162d",
   "metadata": {},
   "outputs": [
    {
     "data": {
      "text/plain": [
       "array([[76.4, 21.7, 38.4],\n",
       "       [41.2, 52.8, 68.9]])"
      ]
     },
     "execution_count": 17,
     "metadata": {},
     "output_type": "execute_result"
    }
   ],
   "source": [
    "array2 = np.array([[76.4,21.7,38.4],[41.2,52.8,68.9]])\n",
    "array2"
   ]
  },
  {
   "cell_type": "code",
   "execution_count": 20,
   "id": "5ac0a582-fa5f-4c1a-9ed9-c5c755d766c9",
   "metadata": {},
   "outputs": [
    {
     "data": {
      "text/plain": [
       "2"
      ]
     },
     "execution_count": 20,
     "metadata": {},
     "output_type": "execute_result"
    }
   ],
   "source": [
    "array2.ndim"
   ]
  },
  {
   "cell_type": "code",
   "execution_count": 21,
   "id": "652e3b06-db34-40f7-b4c7-b660e371f72e",
   "metadata": {},
   "outputs": [
    {
     "data": {
      "text/plain": [
       "6"
      ]
     },
     "execution_count": 21,
     "metadata": {},
     "output_type": "execute_result"
    }
   ],
   "source": [
    "array2.size"
   ]
  },
  {
   "cell_type": "code",
   "execution_count": 22,
   "id": "0263c72c-7ebc-437d-aa50-7d7b893efad6",
   "metadata": {},
   "outputs": [
    {
     "data": {
      "text/plain": [
       "(2, 3)"
      ]
     },
     "execution_count": 22,
     "metadata": {},
     "output_type": "execute_result"
    }
   ],
   "source": [
    "array2.shape"
   ]
  },
  {
   "cell_type": "code",
   "execution_count": 23,
   "id": "78889f6c-cfa5-4415-bce7-359df27d99ed",
   "metadata": {},
   "outputs": [
    {
     "data": {
      "text/plain": [
       "dtype('float64')"
      ]
     },
     "execution_count": 23,
     "metadata": {},
     "output_type": "execute_result"
    }
   ],
   "source": [
    "array2.dtype"
   ]
  },
  {
   "cell_type": "code",
   "execution_count": 43,
   "id": "7f4ce3cc-6a66-4c9d-aaee-e919f8149ff6",
   "metadata": {},
   "outputs": [
    {
     "data": {
      "text/plain": [
       "array([[12],\n",
       "       [ 4],\n",
       "       [ 9],\n",
       "       [ 8]])"
      ]
     },
     "execution_count": 43,
     "metadata": {},
     "output_type": "execute_result"
    }
   ],
   "source": [
    "array3 = np.array([[12],[4],[9],[8]])\n",
    "array3"
   ]
  },
  {
   "cell_type": "code",
   "execution_count": 44,
   "id": "535e79a8-6954-45f3-b11b-d1bb8fab634f",
   "metadata": {},
   "outputs": [
    {
     "data": {
      "text/plain": [
       "2"
      ]
     },
     "execution_count": 44,
     "metadata": {},
     "output_type": "execute_result"
    }
   ],
   "source": [
    "array3.ndim"
   ]
  },
  {
   "cell_type": "code",
   "execution_count": 45,
   "id": "d1e56993-0c90-46d0-98e1-1d09fd10b435",
   "metadata": {},
   "outputs": [
    {
     "data": {
      "text/plain": [
       "4"
      ]
     },
     "execution_count": 45,
     "metadata": {},
     "output_type": "execute_result"
    }
   ],
   "source": [
    "array3.size"
   ]
  },
  {
   "cell_type": "code",
   "execution_count": 46,
   "id": "751e857b-9e21-48b6-ba60-06634f4c0479",
   "metadata": {},
   "outputs": [
    {
     "data": {
      "text/plain": [
       "(4, 1)"
      ]
     },
     "execution_count": 46,
     "metadata": {},
     "output_type": "execute_result"
    }
   ],
   "source": [
    "array3.shape"
   ]
  },
  {
   "cell_type": "code",
   "execution_count": 47,
   "id": "ef6fd319-30cf-4121-bdb9-9379c18866aa",
   "metadata": {},
   "outputs": [
    {
     "data": {
      "text/plain": [
       "dtype('int32')"
      ]
     },
     "execution_count": 47,
     "metadata": {},
     "output_type": "execute_result"
    }
   ],
   "source": [
    "array3.dtype"
   ]
  },
  {
   "cell_type": "markdown",
   "id": "83ceb34b-b764-45c2-9e99-c41ea043d071",
   "metadata": {},
   "source": [
    "**Exercise 2**"
   ]
  },
  {
   "cell_type": "code",
   "execution_count": 62,
   "id": "bae80c46-b8cf-4594-8b7f-c053076585cc",
   "metadata": {},
   "outputs": [
    {
     "data": {
      "text/plain": [
       "array([[ 0,  0,  0, ...,  0,  0,  0],\n",
       "       [ 0,  1,  0, ...,  0,  0,  0],\n",
       "       [ 0,  0,  2, ...,  0,  0,  0],\n",
       "       ...,\n",
       "       [ 0,  0,  0, ..., 47,  0,  0],\n",
       "       [ 0,  0,  0, ...,  0, 48,  0],\n",
       "       [ 0,  0,  0, ...,  0,  0, 49]])"
      ]
     },
     "execution_count": 62,
     "metadata": {},
     "output_type": "execute_result"
    }
   ],
   "source": [
    "M_diag = np.diag(range(int(50)))\n",
    "M_diag"
   ]
  },
  {
   "cell_type": "code",
   "execution_count": 63,
   "id": "2b07ab4b-9e66-4db8-824c-d1da0bf9dccf",
   "metadata": {},
   "outputs": [
    {
     "data": {
      "text/plain": [
       "2"
      ]
     },
     "execution_count": 63,
     "metadata": {},
     "output_type": "execute_result"
    }
   ],
   "source": [
    "M_diag.ndim"
   ]
  },
  {
   "cell_type": "code",
   "execution_count": 64,
   "id": "73b7a6b5-4451-4e96-b2ff-7b2dd802250d",
   "metadata": {},
   "outputs": [
    {
     "data": {
      "text/plain": [
       "2500"
      ]
     },
     "execution_count": 64,
     "metadata": {},
     "output_type": "execute_result"
    }
   ],
   "source": [
    "M_diag.size"
   ]
  },
  {
   "cell_type": "code",
   "execution_count": 65,
   "id": "9cf06d24-392b-46c5-84a6-4a3a8506a3a4",
   "metadata": {},
   "outputs": [
    {
     "data": {
      "text/plain": [
       "(50, 50)"
      ]
     },
     "execution_count": 65,
     "metadata": {},
     "output_type": "execute_result"
    }
   ],
   "source": [
    "M_diag.shape"
   ]
  },
  {
   "cell_type": "code",
   "execution_count": 66,
   "id": "5c9b3ea3-fc9f-4b4b-93e1-1f4fad9d73c0",
   "metadata": {},
   "outputs": [
    {
     "data": {
      "text/plain": [
       "dtype('int32')"
      ]
     },
     "execution_count": 66,
     "metadata": {},
     "output_type": "execute_result"
    }
   ],
   "source": [
    "M_diag.dtype"
   ]
  },
  {
   "cell_type": "markdown",
   "id": "a465a3d3-87d0-4c8b-838d-604c13b50ee2",
   "metadata": {},
   "source": [
    "**Exercise 3**"
   ]
  },
  {
   "cell_type": "code",
   "execution_count": 70,
   "id": "91f4440c-9478-466b-955b-1221ee88661e",
   "metadata": {},
   "outputs": [
    {
     "data": {
      "text/plain": [
       "array([[ 1.        ,  1.09090909,  1.18181818,  1.27272727,  1.36363636],\n",
       "       [ 1.45454545,  1.54545455,  1.63636364,  1.72727273,  1.81818182],\n",
       "       [ 1.90909091,  2.        ,  2.09090909,  2.18181818,  2.27272727],\n",
       "       [ 2.36363636,  2.45454545,  2.54545455,  2.63636364,  2.72727273],\n",
       "       [ 2.81818182,  2.90909091,  3.        ,  3.09090909,  3.18181818],\n",
       "       [ 3.27272727,  3.36363636,  3.45454545,  3.54545455,  3.63636364],\n",
       "       [ 3.72727273,  3.81818182,  3.90909091,  4.        ,  4.09090909],\n",
       "       [ 4.18181818,  4.27272727,  4.36363636,  4.45454545,  4.54545455],\n",
       "       [ 4.63636364,  4.72727273,  4.81818182,  4.90909091,  5.        ],\n",
       "       [ 5.09090909,  5.18181818,  5.27272727,  5.36363636,  5.45454545],\n",
       "       [ 5.54545455,  5.63636364,  5.72727273,  5.81818182,  5.90909091],\n",
       "       [ 6.        ,  6.09090909,  6.18181818,  6.27272727,  6.36363636],\n",
       "       [ 6.45454545,  6.54545455,  6.63636364,  6.72727273,  6.81818182],\n",
       "       [ 6.90909091,  7.        ,  7.09090909,  7.18181818,  7.27272727],\n",
       "       [ 7.36363636,  7.45454545,  7.54545455,  7.63636364,  7.72727273],\n",
       "       [ 7.81818182,  7.90909091,  8.        ,  8.09090909,  8.18181818],\n",
       "       [ 8.27272727,  8.36363636,  8.45454545,  8.54545455,  8.63636364],\n",
       "       [ 8.72727273,  8.81818182,  8.90909091,  9.        ,  9.09090909],\n",
       "       [ 9.18181818,  9.27272727,  9.36363636,  9.45454545,  9.54545455],\n",
       "       [ 9.63636364,  9.72727273,  9.81818182,  9.90909091, 10.        ]])"
      ]
     },
     "execution_count": 70,
     "metadata": {},
     "output_type": "execute_result"
    }
   ],
   "source": [
    "#array(20,5) float [1,10] equiespaciados\n",
    "np.linspace(1,10, 100).reshape(20,5)"
   ]
  },
  {
   "cell_type": "code",
   "execution_count": 71,
   "id": "0cf9967a-d7b0-4eeb-a385-f8fcfc1817db",
   "metadata": {},
   "outputs": [
    {
     "data": {
      "text/plain": [
       "array([ 1.05600473e+00, -4.01626074e+00,  4.87905847e+00,  1.60593540e+00,\n",
       "        1.47882033e+00, -8.42388266e-01,  2.37609562e-01, -2.69026270e-01,\n",
       "        4.03831851e+00, -1.04556969e+00,  5.21825564e-01,  1.81415492e+00,\n",
       "        1.79160187e+00, -9.00553272e-01,  5.78370279e-01, -4.11259506e-01,\n",
       "        2.70275489e+00, -3.48289909e+00,  1.79351065e+00,  2.22276033e+00,\n",
       "       -9.78096584e-01,  4.97391753e-01,  4.43518127e+00,  9.16721150e-01,\n",
       "        1.22370725e+00, -8.99945888e-01,  2.55860211e+00,  4.70097773e+00,\n",
       "       -1.68760788e+00, -2.41296526e+00,  5.37425183e+00,  7.77056227e-01,\n",
       "       -1.42136662e+00, -1.91765611e-03,  1.49249753e+00, -4.30460766e+00,\n",
       "        5.98996197e-01,  3.34037184e+00, -2.79935190e+00, -4.30550928e-03,\n",
       "        2.17741343e+00,  9.08655301e-01,  8.30161416e-01,  1.84426138e+00,\n",
       "        1.22162304e+00,  2.93433544e-01, -9.17880553e-01,  4.14994961e+00,\n",
       "        2.47966958e+00,  1.20759968e+00,  1.26994912e+00, -6.18074288e-01,\n",
       "        3.18912219e+00,  3.53098264e+00,  2.28044698e+00, -1.12646808e-01,\n",
       "        2.35432428e+00,  3.56836863e+00,  1.49534760e+00, -3.08064484e-01,\n",
       "        2.73603715e+00,  8.55581860e-01,  9.19435861e-01,  2.81199159e-01,\n",
       "        2.72861095e+00,  3.08437071e+00, -1.24062730e-01,  2.81439077e+00,\n",
       "        5.64607431e-01,  2.25922984e+00, -4.89888567e-01,  1.94091202e+00,\n",
       "        3.43602507e+00,  3.20845340e+00, -1.13690830e+00,  7.35292211e-01,\n",
       "       -8.92606572e-02,  3.08356087e+00,  4.52062411e+00,  2.93055086e+00,\n",
       "        2.57524192e+00, -1.59367632e-01,  7.84416340e-01,  4.44834202e+00,\n",
       "       -8.29566554e-01, -3.73515942e+00,  4.36668948e-01,  2.16670235e+00,\n",
       "       -1.15138895e+00,  4.98500366e+00,  1.70785865e+00,  6.72329072e-01,\n",
       "       -6.90180226e-02, -1.10701412e+00, -1.36021227e+00,  8.45306677e-01,\n",
       "        2.00310827e+00, -3.48650633e-01, -5.73833763e-01,  9.53451156e-01,\n",
       "        2.71669699e+00, -2.87673367e-01,  3.95148352e-01,  2.74733955e+00,\n",
       "       -1.34816202e+00,  2.88540089e+00, -1.80716362e+00,  2.58696037e+00,\n",
       "        2.93675865e+00,  3.41414948e+00,  1.65565183e+00,  2.48642193e+00,\n",
       "       -1.59982883e+00,  3.05561147e+00,  4.52847091e+00,  1.50824253e+00,\n",
       "        1.24868987e+00,  2.58363523e+00, -2.79314554e+00,  9.49375925e-01,\n",
       "       -1.01177219e+00, -6.32158399e-01, -3.71790316e-01,  2.62226936e+00,\n",
       "        9.86460848e-01,  1.61454081e+00,  1.38219143e+00,  2.49512658e+00])"
      ]
     },
     "execution_count": 71,
     "metadata": {},
     "output_type": "execute_result"
    }
   ],
   "source": [
    "np.random.normal(1,2,128)"
   ]
  },
  {
   "cell_type": "code",
   "execution_count": 73,
   "id": "61de160c-7669-413c-8eb5-86b79201eaad",
   "metadata": {},
   "outputs": [
    {
     "data": {
      "text/plain": [
       "array(['2', '1', 'x', 'x', '1', '2', 'x', 'x', 'x', '1', 'x', '2', '1',\n",
       "       '2', '1'], dtype='<U1')"
      ]
     },
     "execution_count": 73,
     "metadata": {},
     "output_type": "execute_result"
    }
   ],
   "source": [
    "np.random.choice(['2','x','1'],size=15,p=[.5,.3,.2])"
   ]
  },
  {
   "cell_type": "markdown",
   "id": "4237ec05-738f-4ed2-92f1-b761ac5567c6",
   "metadata": {},
   "source": [
    "**Exercise 4**"
   ]
  },
  {
   "cell_type": "code",
   "execution_count": null,
   "id": "4ba008f2-d696-4718-b563-9d28566af546",
   "metadata": {},
   "outputs": [],
   "source": []
  }
 ],
 "metadata": {
  "kernelspec": {
   "display_name": "Python 3 (ipykernel)",
   "language": "python",
   "name": "python3"
  },
  "language_info": {
   "codemirror_mode": {
    "name": "ipython",
    "version": 3
   },
   "file_extension": ".py",
   "mimetype": "text/x-python",
   "name": "python",
   "nbconvert_exporter": "python",
   "pygments_lexer": "ipython3",
   "version": "3.11.4"
  }
 },
 "nbformat": 4,
 "nbformat_minor": 5
}
